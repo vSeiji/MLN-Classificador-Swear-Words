{
  "nbformat": 4,
  "nbformat_minor": 0,
  "metadata": {
    "colab": {
      "provenance": [],
      "collapsed_sections": [
        "O_cxDvxu-sx9",
        "wGwVyOi47nGn",
        "ad2X444_mD1w"
      ],
      "gpuType": "T4"
    },
    "kernelspec": {
      "name": "python3",
      "display_name": "Python 3"
    },
    "language_info": {
      "name": "python"
    },
    "accelerator": "GPU",
    "gpuClass": "standard"
  },
  "cells": [
    {
      "cell_type": "markdown",
      "source": [
        "# MLN - Classificação de Swear Words\n",
        "\n",
        "Modelo de Machine learning feito para identificar e classificar Xingamentos/ Swear Words em frases."
      ],
      "metadata": {
        "id": "1j-6zj0dXtuV"
      }
    },
    {
      "cell_type": "markdown",
      "source": [
        "## Import de bibliotecas"
      ],
      "metadata": {
        "id": "O_cxDvxu-sx9"
      }
    },
    {
      "cell_type": "code",
      "source": [
        "# Instalação de mais bibliotecas\n",
        "# Estão em ambas IAs:\n",
        "!pip install kaggle\n",
        "!pip install unidecode"
      ],
      "metadata": {
        "id": "Rir1LZFewvZM",
        "colab": {
          "base_uri": "https://localhost:8080/"
        },
        "outputId": "92698cae-e6f2-4be8-e6b0-d68a71343273"
      },
      "execution_count": 4,
      "outputs": [
        {
          "output_type": "stream",
          "name": "stdout",
          "text": [
            "Requirement already satisfied: kaggle in /usr/local/lib/python3.10/dist-packages (1.5.16)\n",
            "Requirement already satisfied: six>=1.10 in /usr/local/lib/python3.10/dist-packages (from kaggle) (1.16.0)\n",
            "Requirement already satisfied: certifi in /usr/local/lib/python3.10/dist-packages (from kaggle) (2023.5.7)\n",
            "Requirement already satisfied: python-dateutil in /usr/local/lib/python3.10/dist-packages (from kaggle) (2.8.2)\n",
            "Requirement already satisfied: requests in /usr/local/lib/python3.10/dist-packages (from kaggle) (2.27.1)\n",
            "Requirement already satisfied: tqdm in /usr/local/lib/python3.10/dist-packages (from kaggle) (4.65.0)\n",
            "Requirement already satisfied: python-slugify in /usr/local/lib/python3.10/dist-packages (from kaggle) (8.0.1)\n",
            "Requirement already satisfied: urllib3 in /usr/local/lib/python3.10/dist-packages (from kaggle) (1.26.16)\n",
            "Requirement already satisfied: bleach in /usr/local/lib/python3.10/dist-packages (from kaggle) (6.0.0)\n",
            "Requirement already satisfied: webencodings in /usr/local/lib/python3.10/dist-packages (from bleach->kaggle) (0.5.1)\n",
            "Requirement already satisfied: text-unidecode>=1.3 in /usr/local/lib/python3.10/dist-packages (from python-slugify->kaggle) (1.3)\n",
            "Requirement already satisfied: charset-normalizer~=2.0.0 in /usr/local/lib/python3.10/dist-packages (from requests->kaggle) (2.0.12)\n",
            "Requirement already satisfied: idna<4,>=2.5 in /usr/local/lib/python3.10/dist-packages (from requests->kaggle) (3.4)\n",
            "Requirement already satisfied: unidecode in /usr/local/lib/python3.10/dist-packages (1.3.6)\n"
          ]
        }
      ]
    },
    {
      "cell_type": "code",
      "source": [
        "# Etc:\n",
        "import json\n",
        "import random\n",
        "\n",
        "# Manipulação dos dados:\n",
        "import pandas as pd\n",
        "import numpy as np\n",
        "\n",
        "# Machine Learning:\n",
        "from sklearn.model_selection import train_test_split\n",
        "from sklearn.linear_model import LogisticRegression\n",
        "\n",
        "# PLN (Processamento de Linguagem Natural) e Pré-Processamento de dados:\n",
        "import unidecode\n",
        "import nltk\n",
        "from nltk import tokenize\n",
        "from string import punctuation\n",
        "from numpy.lib.function_base import vectorize\n",
        "from sklearn.feature_extraction.text import CountVectorizer"
      ],
      "metadata": {
        "id": "HmNV6ZI8wns3"
      },
      "execution_count": 5,
      "outputs": []
    },
    {
      "cell_type": "markdown",
      "source": [
        "## MLN - Classificação de \"Swear Words\"\n",
        "\n",
        "\n"
      ],
      "metadata": {
        "id": "ad2X444_mD1w"
      }
    },
    {
      "cell_type": "code",
      "source": [
        "with open('swear.json', 'r') as file:\n",
        "    data = json.load(file)"
      ],
      "metadata": {
        "id": "jJa9BJqr0-R9"
      },
      "execution_count": 6,
      "outputs": []
    },
    {
      "cell_type": "code",
      "source": [
        "nltk.download('stopwords')"
      ],
      "metadata": {
        "colab": {
          "base_uri": "https://localhost:8080/"
        },
        "id": "EThn3MtZOnEK",
        "outputId": "05dfc319-d753-4a82-8bdc-79bfe596cd17"
      },
      "execution_count": 7,
      "outputs": [
        {
          "output_type": "stream",
          "name": "stderr",
          "text": [
            "[nltk_data] Downloading package stopwords to /root/nltk_data...\n",
            "[nltk_data]   Unzipping corpora/stopwords.zip.\n"
          ]
        },
        {
          "output_type": "execute_result",
          "data": {
            "text/plain": [
              "True"
            ]
          },
          "metadata": {},
          "execution_count": 7
        }
      ]
    },
    {
      "cell_type": "code",
      "source": [
        "frases_aleatorias = [\n",
        "    \"A vida é bela.\",\n",
        "    \"O sol está brilhando hoje.\",\n",
        "    \"O tempo voa quando você está se divertindo.\",\n",
        "    \"A persistência leva ao sucesso.\",\n",
        "    \"A criatividade é a chave para a inovação.\",\n",
        "    \"Nunca é tarde demais para aprender algo novo.\",\n",
        "    \"O conhecimento é poder.\",\n",
        "    \"A amizade verdadeira é um tesouro.\",\n",
        "    \"O trabalho em equipe gera grandes resultados.\",\n",
        "    \"A felicidade está nas pequenas coisas da vida.\"\n",
        "]"
      ],
      "metadata": {
        "id": "Rdwml2Oi2qxf"
      },
      "execution_count": 8,
      "outputs": []
    },
    {
      "cell_type": "code",
      "source": [
        "teste1 = []\n",
        "teste2 = []\n",
        "for i in range(300):\n",
        "    frase = random.choice(frases_aleatorias)\n",
        "    if random.randint(0, 1) == 1:\n",
        "          palavra = random.choice(data[\"pt\"])\n",
        "          frase = frase + \" \" + palavra\n",
        "          teste1.append(frase)\n",
        "          teste2.append(1)\n",
        "    else:\n",
        "      teste1.append(frase)\n",
        "      teste2.append(0)"
      ],
      "metadata": {
        "id": "lJeNfWpj7Pbw"
      },
      "execution_count": 9,
      "outputs": []
    },
    {
      "cell_type": "code",
      "source": [
        "df_swear = pd.DataFrame({\"Frase\":teste1, \"Classificacao\":teste2})"
      ],
      "metadata": {
        "id": "LuwAV1kIBpAk"
      },
      "execution_count": 10,
      "outputs": []
    },
    {
      "cell_type": "code",
      "source": [
        "df_swear.head()"
      ],
      "metadata": {
        "colab": {
          "base_uri": "https://localhost:8080/",
          "height": 206
        },
        "id": "kmkaLmCBNdva",
        "outputId": "34cb1c72-6629-4c60-d66d-a26a1f8e5441"
      },
      "execution_count": 11,
      "outputs": [
        {
          "output_type": "execute_result",
          "data": {
            "text/plain": [
              "                                            Frase  Classificacao\n",
              "0               O conhecimento é poder. chupa-mos              1\n",
              "1  A felicidade está nas pequenas coisas da vida.              0\n",
              "2                         O conhecimento é poder.              0\n",
              "3  A felicidade está nas pequenas coisas da vida.              0\n",
              "4                                  A vida é bela.              0"
            ],
            "text/html": [
              "\n",
              "\n",
              "  <div id=\"df-13c2266b-65db-4246-bf8c-ba6b6a8d3b5a\">\n",
              "    <div class=\"colab-df-container\">\n",
              "      <div>\n",
              "<style scoped>\n",
              "    .dataframe tbody tr th:only-of-type {\n",
              "        vertical-align: middle;\n",
              "    }\n",
              "\n",
              "    .dataframe tbody tr th {\n",
              "        vertical-align: top;\n",
              "    }\n",
              "\n",
              "    .dataframe thead th {\n",
              "        text-align: right;\n",
              "    }\n",
              "</style>\n",
              "<table border=\"1\" class=\"dataframe\">\n",
              "  <thead>\n",
              "    <tr style=\"text-align: right;\">\n",
              "      <th></th>\n",
              "      <th>Frase</th>\n",
              "      <th>Classificacao</th>\n",
              "    </tr>\n",
              "  </thead>\n",
              "  <tbody>\n",
              "    <tr>\n",
              "      <th>0</th>\n",
              "      <td>O conhecimento é poder. chupa-mos</td>\n",
              "      <td>1</td>\n",
              "    </tr>\n",
              "    <tr>\n",
              "      <th>1</th>\n",
              "      <td>A felicidade está nas pequenas coisas da vida.</td>\n",
              "      <td>0</td>\n",
              "    </tr>\n",
              "    <tr>\n",
              "      <th>2</th>\n",
              "      <td>O conhecimento é poder.</td>\n",
              "      <td>0</td>\n",
              "    </tr>\n",
              "    <tr>\n",
              "      <th>3</th>\n",
              "      <td>A felicidade está nas pequenas coisas da vida.</td>\n",
              "      <td>0</td>\n",
              "    </tr>\n",
              "    <tr>\n",
              "      <th>4</th>\n",
              "      <td>A vida é bela.</td>\n",
              "      <td>0</td>\n",
              "    </tr>\n",
              "  </tbody>\n",
              "</table>\n",
              "</div>\n",
              "      <button class=\"colab-df-convert\" onclick=\"convertToInteractive('df-13c2266b-65db-4246-bf8c-ba6b6a8d3b5a')\"\n",
              "              title=\"Convert this dataframe to an interactive table.\"\n",
              "              style=\"display:none;\">\n",
              "\n",
              "  <svg xmlns=\"http://www.w3.org/2000/svg\" height=\"24px\"viewBox=\"0 0 24 24\"\n",
              "       width=\"24px\">\n",
              "    <path d=\"M0 0h24v24H0V0z\" fill=\"none\"/>\n",
              "    <path d=\"M18.56 5.44l.94 2.06.94-2.06 2.06-.94-2.06-.94-.94-2.06-.94 2.06-2.06.94zm-11 1L8.5 8.5l.94-2.06 2.06-.94-2.06-.94L8.5 2.5l-.94 2.06-2.06.94zm10 10l.94 2.06.94-2.06 2.06-.94-2.06-.94-.94-2.06-.94 2.06-2.06.94z\"/><path d=\"M17.41 7.96l-1.37-1.37c-.4-.4-.92-.59-1.43-.59-.52 0-1.04.2-1.43.59L10.3 9.45l-7.72 7.72c-.78.78-.78 2.05 0 2.83L4 21.41c.39.39.9.59 1.41.59.51 0 1.02-.2 1.41-.59l7.78-7.78 2.81-2.81c.8-.78.8-2.07 0-2.86zM5.41 20L4 18.59l7.72-7.72 1.47 1.35L5.41 20z\"/>\n",
              "  </svg>\n",
              "      </button>\n",
              "\n",
              "\n",
              "\n",
              "    <div id=\"df-3baf5d88-4552-4c05-879a-f2b5d506dabc\">\n",
              "      <button class=\"colab-df-quickchart\" onclick=\"quickchart('df-3baf5d88-4552-4c05-879a-f2b5d506dabc')\"\n",
              "              title=\"Suggest charts.\"\n",
              "              style=\"display:none;\">\n",
              "\n",
              "<svg xmlns=\"http://www.w3.org/2000/svg\" height=\"24px\"viewBox=\"0 0 24 24\"\n",
              "     width=\"24px\">\n",
              "    <g>\n",
              "        <path d=\"M19 3H5c-1.1 0-2 .9-2 2v14c0 1.1.9 2 2 2h14c1.1 0 2-.9 2-2V5c0-1.1-.9-2-2-2zM9 17H7v-7h2v7zm4 0h-2V7h2v10zm4 0h-2v-4h2v4z\"/>\n",
              "    </g>\n",
              "</svg>\n",
              "      </button>\n",
              "    </div>\n",
              "\n",
              "<style>\n",
              "  .colab-df-quickchart {\n",
              "    background-color: #E8F0FE;\n",
              "    border: none;\n",
              "    border-radius: 50%;\n",
              "    cursor: pointer;\n",
              "    display: none;\n",
              "    fill: #1967D2;\n",
              "    height: 32px;\n",
              "    padding: 0 0 0 0;\n",
              "    width: 32px;\n",
              "  }\n",
              "\n",
              "  .colab-df-quickchart:hover {\n",
              "    background-color: #E2EBFA;\n",
              "    box-shadow: 0px 1px 2px rgba(60, 64, 67, 0.3), 0px 1px 3px 1px rgba(60, 64, 67, 0.15);\n",
              "    fill: #174EA6;\n",
              "  }\n",
              "\n",
              "  [theme=dark] .colab-df-quickchart {\n",
              "    background-color: #3B4455;\n",
              "    fill: #D2E3FC;\n",
              "  }\n",
              "\n",
              "  [theme=dark] .colab-df-quickchart:hover {\n",
              "    background-color: #434B5C;\n",
              "    box-shadow: 0px 1px 3px 1px rgba(0, 0, 0, 0.15);\n",
              "    filter: drop-shadow(0px 1px 2px rgba(0, 0, 0, 0.3));\n",
              "    fill: #FFFFFF;\n",
              "  }\n",
              "</style>\n",
              "\n",
              "    <script>\n",
              "      async function quickchart(key) {\n",
              "        const containerElement = document.querySelector('#' + key);\n",
              "        const charts = await google.colab.kernel.invokeFunction(\n",
              "            'suggestCharts', [key], {});\n",
              "      }\n",
              "    </script>\n",
              "\n",
              "      <script>\n",
              "\n",
              "function displayQuickchartButton(domScope) {\n",
              "  let quickchartButtonEl =\n",
              "    domScope.querySelector('#df-3baf5d88-4552-4c05-879a-f2b5d506dabc button.colab-df-quickchart');\n",
              "  quickchartButtonEl.style.display =\n",
              "    google.colab.kernel.accessAllowed ? 'block' : 'none';\n",
              "}\n",
              "\n",
              "        displayQuickchartButton(document);\n",
              "      </script>\n",
              "      <style>\n",
              "    .colab-df-container {\n",
              "      display:flex;\n",
              "      flex-wrap:wrap;\n",
              "      gap: 12px;\n",
              "    }\n",
              "\n",
              "    .colab-df-convert {\n",
              "      background-color: #E8F0FE;\n",
              "      border: none;\n",
              "      border-radius: 50%;\n",
              "      cursor: pointer;\n",
              "      display: none;\n",
              "      fill: #1967D2;\n",
              "      height: 32px;\n",
              "      padding: 0 0 0 0;\n",
              "      width: 32px;\n",
              "    }\n",
              "\n",
              "    .colab-df-convert:hover {\n",
              "      background-color: #E2EBFA;\n",
              "      box-shadow: 0px 1px 2px rgba(60, 64, 67, 0.3), 0px 1px 3px 1px rgba(60, 64, 67, 0.15);\n",
              "      fill: #174EA6;\n",
              "    }\n",
              "\n",
              "    [theme=dark] .colab-df-convert {\n",
              "      background-color: #3B4455;\n",
              "      fill: #D2E3FC;\n",
              "    }\n",
              "\n",
              "    [theme=dark] .colab-df-convert:hover {\n",
              "      background-color: #434B5C;\n",
              "      box-shadow: 0px 1px 3px 1px rgba(0, 0, 0, 0.15);\n",
              "      filter: drop-shadow(0px 1px 2px rgba(0, 0, 0, 0.3));\n",
              "      fill: #FFFFFF;\n",
              "    }\n",
              "  </style>\n",
              "\n",
              "      <script>\n",
              "        const buttonEl =\n",
              "          document.querySelector('#df-13c2266b-65db-4246-bf8c-ba6b6a8d3b5a button.colab-df-convert');\n",
              "        buttonEl.style.display =\n",
              "          google.colab.kernel.accessAllowed ? 'block' : 'none';\n",
              "\n",
              "        async function convertToInteractive(key) {\n",
              "          const element = document.querySelector('#df-13c2266b-65db-4246-bf8c-ba6b6a8d3b5a');\n",
              "          const dataTable =\n",
              "            await google.colab.kernel.invokeFunction('convertToInteractive',\n",
              "                                                     [key], {});\n",
              "          if (!dataTable) return;\n",
              "\n",
              "          const docLinkHtml = 'Like what you see? Visit the ' +\n",
              "            '<a target=\"_blank\" href=https://colab.research.google.com/notebooks/data_table.ipynb>data table notebook</a>'\n",
              "            + ' to learn more about interactive tables.';\n",
              "          element.innerHTML = '';\n",
              "          dataTable['output_type'] = 'display_data';\n",
              "          await google.colab.output.renderOutput(dataTable, element);\n",
              "          const docLink = document.createElement('div');\n",
              "          docLink.innerHTML = docLinkHtml;\n",
              "          element.appendChild(docLink);\n",
              "        }\n",
              "      </script>\n",
              "    </div>\n",
              "  </div>\n"
            ]
          },
          "metadata": {},
          "execution_count": 11
        }
      ]
    },
    {
      "cell_type": "code",
      "source": [
        "df_swear[\"Classificacao\"].value_counts()"
      ],
      "metadata": {
        "colab": {
          "base_uri": "https://localhost:8080/"
        },
        "id": "s6CC5RIZGlgv",
        "outputId": "57a19d3a-5cd8-457b-a081-5099288a8fb2"
      },
      "execution_count": 12,
      "outputs": [
        {
          "output_type": "execute_result",
          "data": {
            "text/plain": [
              "0    164\n",
              "1    136\n",
              "Name: Classificacao, dtype: int64"
            ]
          },
          "metadata": {},
          "execution_count": 12
        }
      ]
    },
    {
      "cell_type": "code",
      "source": [
        "vetorize2 = CountVectorizer(lowercase = False)\n",
        "bow2 = vetorize2.fit_transform(df_swear[\"Frase\"])"
      ],
      "metadata": {
        "id": "KrJX7UCN6GZv"
      },
      "execution_count": 13,
      "outputs": []
    },
    {
      "cell_type": "code",
      "source": [
        "x_train, x_test, y_train, y_test = train_test_split(bow2, df_swear[\"Classificacao\"], test_size = 0.2, random_state = 42)"
      ],
      "metadata": {
        "id": "HlNJ05bB2A0W"
      },
      "execution_count": 14,
      "outputs": []
    },
    {
      "cell_type": "code",
      "source": [
        "lr = LogisticRegression()\n",
        "lr.fit(x_train, y_train)\n",
        "acuracia = lr.score(x_test, y_test)\n",
        "print(acuracia)"
      ],
      "metadata": {
        "colab": {
          "base_uri": "https://localhost:8080/"
        },
        "id": "alPjOdzUIyDM",
        "outputId": "0ff9ffd9-d56d-4fb8-907e-3591ced24183"
      },
      "execution_count": 15,
      "outputs": [
        {
          "output_type": "stream",
          "name": "stdout",
          "text": [
            "0.75\n"
          ]
        }
      ]
    },
    {
      "cell_type": "code",
      "source": [
        "#Tokenizador que separa palavras de simbolos como: . ! ?\n",
        "tokenizer2 = tokenize.WordPunctTokenizer()"
      ],
      "metadata": {
        "id": "ZqXC8OHJKdaA"
      },
      "execution_count": 16,
      "outputs": []
    },
    {
      "cell_type": "code",
      "source": [
        "#Lista de simbolos\n",
        "pontuacao = list()\n",
        "for ponto in punctuation:\n",
        "  pontuacao.append(ponto)"
      ],
      "metadata": {
        "id": "Egv-37GIMOmx"
      },
      "execution_count": 17,
      "outputs": []
    },
    {
      "cell_type": "code",
      "source": [
        "sem_acentos = [unidecode.unidecode(texto) for texto in df_swear[\"Frase\"]]"
      ],
      "metadata": {
        "id": "EU4-y-Tt7r2l"
      },
      "execution_count": 18,
      "outputs": []
    },
    {
      "cell_type": "code",
      "source": [
        "df_swear[\"Frase2\"] = sem_acentos"
      ],
      "metadata": {
        "id": "jXhXG5pk7zTH"
      },
      "execution_count": 19,
      "outputs": []
    },
    {
      "cell_type": "code",
      "source": [
        "#Lista com as stopwords em português\n",
        "palavras_irrelevantes = nltk.corpus.stopwords.words(\"portuguese\")\n",
        "pontuacao_stopwords = pontuacao + palavras_irrelevantes\n",
        "#Retira os acentos das palavras\n",
        "stopwords_sem_acento =  [unidecode.unidecode(texto) for texto in pontuacao_stopwords]"
      ],
      "metadata": {
        "id": "9pljnb_LMqYx"
      },
      "execution_count": 20,
      "outputs": []
    },
    {
      "cell_type": "code",
      "source": [
        "#Iterando na coluna do dataframe, colocando as palavras em minusculo, tokenizando, colocando em uma lista, iterando nessa lista, e verificando se são palavras relevantes ou não\n",
        "frase_processada = list()\n",
        "for frase in df_swear[\"Frase2\"]:\n",
        "    nova_frase = list()\n",
        "    frase = frase.lower()\n",
        "    palavras_texto = tokenizer2.tokenize(frase)\n",
        "    for palavra in palavras_texto:\n",
        "        if palavra not in stopwords_sem_acento:\n",
        "            nova_frase.append(palavra)\n",
        "    frase_processada.append(' '.join(nova_frase))"
      ],
      "metadata": {
        "id": "5HBbgo8hMdJp"
      },
      "execution_count": 21,
      "outputs": []
    },
    {
      "cell_type": "code",
      "source": [
        "df_swear[\"Frase3\"] = frase_processada"
      ],
      "metadata": {
        "id": "DlEFbBX9Qb9U"
      },
      "execution_count": 22,
      "outputs": []
    },
    {
      "cell_type": "code",
      "source": [
        "df_swear"
      ],
      "metadata": {
        "colab": {
          "base_uri": "https://localhost:8080/",
          "height": 423
        },
        "id": "kiieVuHQ5d7A",
        "outputId": "7df0d5ad-c14c-4bd0-f809-7508bd549a96"
      },
      "execution_count": 23,
      "outputs": [
        {
          "output_type": "execute_result",
          "data": {
            "text/plain": [
              "                                                 Frase  Classificacao  \\\n",
              "0                    O conhecimento é poder. chupa-mos              1   \n",
              "1       A felicidade está nas pequenas coisas da vida.              0   \n",
              "2                              O conhecimento é poder.              0   \n",
              "3       A felicidade está nas pequenas coisas da vida.              0   \n",
              "4                                       A vida é bela.              0   \n",
              "..                                                 ...            ...   \n",
              "295  O trabalho em equipe gera grandes resultados. ...              1   \n",
              "296                 A amizade verdadeira é um tesouro.              0   \n",
              "297                    A persistência leva ao sucesso.              0   \n",
              "298          A amizade verdadeira é um tesouro. caceta              1   \n",
              "299  O trabalho em equipe gera grandes resultados. ...              1   \n",
              "\n",
              "                                                Frase2  \\\n",
              "0                    O conhecimento e poder. chupa-mos   \n",
              "1       A felicidade esta nas pequenas coisas da vida.   \n",
              "2                              O conhecimento e poder.   \n",
              "3       A felicidade esta nas pequenas coisas da vida.   \n",
              "4                                       A vida e bela.   \n",
              "..                                                 ...   \n",
              "295  O trabalho em equipe gera grandes resultados. ...   \n",
              "296                 A amizade verdadeira e um tesouro.   \n",
              "297                    A persistencia leva ao sucesso.   \n",
              "298          A amizade verdadeira e um tesouro. caceta   \n",
              "299  O trabalho em equipe gera grandes resultados. ...   \n",
              "\n",
              "                                                Frase3  \n",
              "0                         conhecimento poder chupa mos  \n",
              "1                      felicidade pequenas coisas vida  \n",
              "2                                   conhecimento poder  \n",
              "3                      felicidade pequenas coisas vida  \n",
              "4                                            vida bela  \n",
              "..                                                 ...  \n",
              "295   trabalho equipe gera grandes resultados cachorro  \n",
              "296                         amizade verdadeira tesouro  \n",
              "297                          persistencia leva sucesso  \n",
              "298                  amizade verdadeira tesouro caceta  \n",
              "299  trabalho equipe gera grandes resultados paneleiro  \n",
              "\n",
              "[300 rows x 4 columns]"
            ],
            "text/html": [
              "\n",
              "\n",
              "  <div id=\"df-0f184959-5898-43e9-9f77-14003dcc0dbf\">\n",
              "    <div class=\"colab-df-container\">\n",
              "      <div>\n",
              "<style scoped>\n",
              "    .dataframe tbody tr th:only-of-type {\n",
              "        vertical-align: middle;\n",
              "    }\n",
              "\n",
              "    .dataframe tbody tr th {\n",
              "        vertical-align: top;\n",
              "    }\n",
              "\n",
              "    .dataframe thead th {\n",
              "        text-align: right;\n",
              "    }\n",
              "</style>\n",
              "<table border=\"1\" class=\"dataframe\">\n",
              "  <thead>\n",
              "    <tr style=\"text-align: right;\">\n",
              "      <th></th>\n",
              "      <th>Frase</th>\n",
              "      <th>Classificacao</th>\n",
              "      <th>Frase2</th>\n",
              "      <th>Frase3</th>\n",
              "    </tr>\n",
              "  </thead>\n",
              "  <tbody>\n",
              "    <tr>\n",
              "      <th>0</th>\n",
              "      <td>O conhecimento é poder. chupa-mos</td>\n",
              "      <td>1</td>\n",
              "      <td>O conhecimento e poder. chupa-mos</td>\n",
              "      <td>conhecimento poder chupa mos</td>\n",
              "    </tr>\n",
              "    <tr>\n",
              "      <th>1</th>\n",
              "      <td>A felicidade está nas pequenas coisas da vida.</td>\n",
              "      <td>0</td>\n",
              "      <td>A felicidade esta nas pequenas coisas da vida.</td>\n",
              "      <td>felicidade pequenas coisas vida</td>\n",
              "    </tr>\n",
              "    <tr>\n",
              "      <th>2</th>\n",
              "      <td>O conhecimento é poder.</td>\n",
              "      <td>0</td>\n",
              "      <td>O conhecimento e poder.</td>\n",
              "      <td>conhecimento poder</td>\n",
              "    </tr>\n",
              "    <tr>\n",
              "      <th>3</th>\n",
              "      <td>A felicidade está nas pequenas coisas da vida.</td>\n",
              "      <td>0</td>\n",
              "      <td>A felicidade esta nas pequenas coisas da vida.</td>\n",
              "      <td>felicidade pequenas coisas vida</td>\n",
              "    </tr>\n",
              "    <tr>\n",
              "      <th>4</th>\n",
              "      <td>A vida é bela.</td>\n",
              "      <td>0</td>\n",
              "      <td>A vida e bela.</td>\n",
              "      <td>vida bela</td>\n",
              "    </tr>\n",
              "    <tr>\n",
              "      <th>...</th>\n",
              "      <td>...</td>\n",
              "      <td>...</td>\n",
              "      <td>...</td>\n",
              "      <td>...</td>\n",
              "    </tr>\n",
              "    <tr>\n",
              "      <th>295</th>\n",
              "      <td>O trabalho em equipe gera grandes resultados. ...</td>\n",
              "      <td>1</td>\n",
              "      <td>O trabalho em equipe gera grandes resultados. ...</td>\n",
              "      <td>trabalho equipe gera grandes resultados cachorro</td>\n",
              "    </tr>\n",
              "    <tr>\n",
              "      <th>296</th>\n",
              "      <td>A amizade verdadeira é um tesouro.</td>\n",
              "      <td>0</td>\n",
              "      <td>A amizade verdadeira e um tesouro.</td>\n",
              "      <td>amizade verdadeira tesouro</td>\n",
              "    </tr>\n",
              "    <tr>\n",
              "      <th>297</th>\n",
              "      <td>A persistência leva ao sucesso.</td>\n",
              "      <td>0</td>\n",
              "      <td>A persistencia leva ao sucesso.</td>\n",
              "      <td>persistencia leva sucesso</td>\n",
              "    </tr>\n",
              "    <tr>\n",
              "      <th>298</th>\n",
              "      <td>A amizade verdadeira é um tesouro. caceta</td>\n",
              "      <td>1</td>\n",
              "      <td>A amizade verdadeira e um tesouro. caceta</td>\n",
              "      <td>amizade verdadeira tesouro caceta</td>\n",
              "    </tr>\n",
              "    <tr>\n",
              "      <th>299</th>\n",
              "      <td>O trabalho em equipe gera grandes resultados. ...</td>\n",
              "      <td>1</td>\n",
              "      <td>O trabalho em equipe gera grandes resultados. ...</td>\n",
              "      <td>trabalho equipe gera grandes resultados paneleiro</td>\n",
              "    </tr>\n",
              "  </tbody>\n",
              "</table>\n",
              "<p>300 rows × 4 columns</p>\n",
              "</div>\n",
              "      <button class=\"colab-df-convert\" onclick=\"convertToInteractive('df-0f184959-5898-43e9-9f77-14003dcc0dbf')\"\n",
              "              title=\"Convert this dataframe to an interactive table.\"\n",
              "              style=\"display:none;\">\n",
              "\n",
              "  <svg xmlns=\"http://www.w3.org/2000/svg\" height=\"24px\"viewBox=\"0 0 24 24\"\n",
              "       width=\"24px\">\n",
              "    <path d=\"M0 0h24v24H0V0z\" fill=\"none\"/>\n",
              "    <path d=\"M18.56 5.44l.94 2.06.94-2.06 2.06-.94-2.06-.94-.94-2.06-.94 2.06-2.06.94zm-11 1L8.5 8.5l.94-2.06 2.06-.94-2.06-.94L8.5 2.5l-.94 2.06-2.06.94zm10 10l.94 2.06.94-2.06 2.06-.94-2.06-.94-.94-2.06-.94 2.06-2.06.94z\"/><path d=\"M17.41 7.96l-1.37-1.37c-.4-.4-.92-.59-1.43-.59-.52 0-1.04.2-1.43.59L10.3 9.45l-7.72 7.72c-.78.78-.78 2.05 0 2.83L4 21.41c.39.39.9.59 1.41.59.51 0 1.02-.2 1.41-.59l7.78-7.78 2.81-2.81c.8-.78.8-2.07 0-2.86zM5.41 20L4 18.59l7.72-7.72 1.47 1.35L5.41 20z\"/>\n",
              "  </svg>\n",
              "      </button>\n",
              "\n",
              "\n",
              "\n",
              "    <div id=\"df-73e59094-dfc0-4622-ab66-6a90708b6e87\">\n",
              "      <button class=\"colab-df-quickchart\" onclick=\"quickchart('df-73e59094-dfc0-4622-ab66-6a90708b6e87')\"\n",
              "              title=\"Suggest charts.\"\n",
              "              style=\"display:none;\">\n",
              "\n",
              "<svg xmlns=\"http://www.w3.org/2000/svg\" height=\"24px\"viewBox=\"0 0 24 24\"\n",
              "     width=\"24px\">\n",
              "    <g>\n",
              "        <path d=\"M19 3H5c-1.1 0-2 .9-2 2v14c0 1.1.9 2 2 2h14c1.1 0 2-.9 2-2V5c0-1.1-.9-2-2-2zM9 17H7v-7h2v7zm4 0h-2V7h2v10zm4 0h-2v-4h2v4z\"/>\n",
              "    </g>\n",
              "</svg>\n",
              "      </button>\n",
              "    </div>\n",
              "\n",
              "<style>\n",
              "  .colab-df-quickchart {\n",
              "    background-color: #E8F0FE;\n",
              "    border: none;\n",
              "    border-radius: 50%;\n",
              "    cursor: pointer;\n",
              "    display: none;\n",
              "    fill: #1967D2;\n",
              "    height: 32px;\n",
              "    padding: 0 0 0 0;\n",
              "    width: 32px;\n",
              "  }\n",
              "\n",
              "  .colab-df-quickchart:hover {\n",
              "    background-color: #E2EBFA;\n",
              "    box-shadow: 0px 1px 2px rgba(60, 64, 67, 0.3), 0px 1px 3px 1px rgba(60, 64, 67, 0.15);\n",
              "    fill: #174EA6;\n",
              "  }\n",
              "\n",
              "  [theme=dark] .colab-df-quickchart {\n",
              "    background-color: #3B4455;\n",
              "    fill: #D2E3FC;\n",
              "  }\n",
              "\n",
              "  [theme=dark] .colab-df-quickchart:hover {\n",
              "    background-color: #434B5C;\n",
              "    box-shadow: 0px 1px 3px 1px rgba(0, 0, 0, 0.15);\n",
              "    filter: drop-shadow(0px 1px 2px rgba(0, 0, 0, 0.3));\n",
              "    fill: #FFFFFF;\n",
              "  }\n",
              "</style>\n",
              "\n",
              "    <script>\n",
              "      async function quickchart(key) {\n",
              "        const containerElement = document.querySelector('#' + key);\n",
              "        const charts = await google.colab.kernel.invokeFunction(\n",
              "            'suggestCharts', [key], {});\n",
              "      }\n",
              "    </script>\n",
              "\n",
              "      <script>\n",
              "\n",
              "function displayQuickchartButton(domScope) {\n",
              "  let quickchartButtonEl =\n",
              "    domScope.querySelector('#df-73e59094-dfc0-4622-ab66-6a90708b6e87 button.colab-df-quickchart');\n",
              "  quickchartButtonEl.style.display =\n",
              "    google.colab.kernel.accessAllowed ? 'block' : 'none';\n",
              "}\n",
              "\n",
              "        displayQuickchartButton(document);\n",
              "      </script>\n",
              "      <style>\n",
              "    .colab-df-container {\n",
              "      display:flex;\n",
              "      flex-wrap:wrap;\n",
              "      gap: 12px;\n",
              "    }\n",
              "\n",
              "    .colab-df-convert {\n",
              "      background-color: #E8F0FE;\n",
              "      border: none;\n",
              "      border-radius: 50%;\n",
              "      cursor: pointer;\n",
              "      display: none;\n",
              "      fill: #1967D2;\n",
              "      height: 32px;\n",
              "      padding: 0 0 0 0;\n",
              "      width: 32px;\n",
              "    }\n",
              "\n",
              "    .colab-df-convert:hover {\n",
              "      background-color: #E2EBFA;\n",
              "      box-shadow: 0px 1px 2px rgba(60, 64, 67, 0.3), 0px 1px 3px 1px rgba(60, 64, 67, 0.15);\n",
              "      fill: #174EA6;\n",
              "    }\n",
              "\n",
              "    [theme=dark] .colab-df-convert {\n",
              "      background-color: #3B4455;\n",
              "      fill: #D2E3FC;\n",
              "    }\n",
              "\n",
              "    [theme=dark] .colab-df-convert:hover {\n",
              "      background-color: #434B5C;\n",
              "      box-shadow: 0px 1px 3px 1px rgba(0, 0, 0, 0.15);\n",
              "      filter: drop-shadow(0px 1px 2px rgba(0, 0, 0, 0.3));\n",
              "      fill: #FFFFFF;\n",
              "    }\n",
              "  </style>\n",
              "\n",
              "      <script>\n",
              "        const buttonEl =\n",
              "          document.querySelector('#df-0f184959-5898-43e9-9f77-14003dcc0dbf button.colab-df-convert');\n",
              "        buttonEl.style.display =\n",
              "          google.colab.kernel.accessAllowed ? 'block' : 'none';\n",
              "\n",
              "        async function convertToInteractive(key) {\n",
              "          const element = document.querySelector('#df-0f184959-5898-43e9-9f77-14003dcc0dbf');\n",
              "          const dataTable =\n",
              "            await google.colab.kernel.invokeFunction('convertToInteractive',\n",
              "                                                     [key], {});\n",
              "          if (!dataTable) return;\n",
              "\n",
              "          const docLinkHtml = 'Like what you see? Visit the ' +\n",
              "            '<a target=\"_blank\" href=https://colab.research.google.com/notebooks/data_table.ipynb>data table notebook</a>'\n",
              "            + ' to learn more about interactive tables.';\n",
              "          element.innerHTML = '';\n",
              "          dataTable['output_type'] = 'display_data';\n",
              "          await google.colab.output.renderOutput(dataTable, element);\n",
              "          const docLink = document.createElement('div');\n",
              "          docLink.innerHTML = docLinkHtml;\n",
              "          element.appendChild(docLink);\n",
              "        }\n",
              "      </script>\n",
              "    </div>\n",
              "  </div>\n"
            ]
          },
          "metadata": {},
          "execution_count": 23
        }
      ]
    },
    {
      "cell_type": "code",
      "source": [
        "bow3 = vetorize2.fit_transform(df_swear[\"Frase3\"])"
      ],
      "metadata": {
        "id": "qC2QdMpNSJTU"
      },
      "execution_count": 24,
      "outputs": []
    },
    {
      "cell_type": "code",
      "source": [
        "a_train, a_test, b_train, b_test = train_test_split(bow3, df_swear[\"Classificacao\"], test_size = 0.2, random_state = 42)"
      ],
      "metadata": {
        "id": "kPskFgSzQknz"
      },
      "execution_count": 25,
      "outputs": []
    },
    {
      "cell_type": "code",
      "source": [
        "#O resultado não mudou porque tem poucas palavras, mas é bom fazer o tratamento dos dados\n",
        "lr = LogisticRegression()\n",
        "lr.fit(a_train, b_train)\n",
        "acuracia = lr.score(a_test, b_test)\n",
        "print(acuracia)"
      ],
      "metadata": {
        "colab": {
          "base_uri": "https://localhost:8080/"
        },
        "id": "b5bsEHHWQmnM",
        "outputId": "1ed488c8-c2fd-4f87-f1a9-ca5f58e1c420"
      },
      "execution_count": 26,
      "outputs": [
        {
          "output_type": "stream",
          "name": "stdout",
          "text": [
            "0.75\n"
          ]
        }
      ]
    }
  ]
}